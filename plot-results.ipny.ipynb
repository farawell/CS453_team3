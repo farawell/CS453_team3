{
 "cells": [
  {
   "cell_type": "code",
   "execution_count": 47,
   "metadata": {},
   "outputs": [
    {
     "name": "stdout",
     "output_type": "stream",
     "text": [
      "Benchmark, Method, gpt-4o-mini,gemma2:9b,qwen2.5:3b,llama3.2:1b,\n",
      "art-prompt ,0.98,0.83,0.83,0.52,\n",
      "classify-input-text ,0.96,1.0,0.88,0.75,\n",
      "elements ,0.69,0.56,0.38,0.46,\n",
      "extract-names ,1.0,0.94,0.69,0.39,\n",
      "sentence-rewrite ,0.88,0.96,0.79,0.69,\n",
      "shakespearean-writing-assistant ,0.98,0.95,0.95,0.93,\n",
      "speech-tag ,1.0,0.95,0.98,0.1,\n",
      "text-to-p ,0.85,0.77,0.28,0.05,\n",
      "average ,"
     ]
    },
    {
     "ename": "TypeError",
     "evalue": "string indices must be integers, not 'str'",
     "output_type": "error",
     "traceback": [
      "\u001b[1;31m---------------------------------------------------------------------------\u001b[0m",
      "\u001b[1;31mTypeError\u001b[0m                                 Traceback (most recent call last)",
      "Cell \u001b[1;32mIn[47], line 34\u001b[0m\n\u001b[0;32m     32\u001b[0m db \u001b[38;5;241m=\u001b[39m data[\u001b[38;5;124m\"\u001b[39m\u001b[38;5;124mart-prompt\u001b[39m\u001b[38;5;124m\"\u001b[39m]\n\u001b[0;32m     33\u001b[0m \u001b[38;5;28;01mfor\u001b[39;00m m \u001b[38;5;129;01min\u001b[39;00m db[\u001b[38;5;124m\"\u001b[39m\u001b[38;5;124mmodel\u001b[39m\u001b[38;5;124m\"\u001b[39m]:\n\u001b[1;32m---> 34\u001b[0m     average \u001b[38;5;241m=\u001b[39m \u001b[43mm\u001b[49m\u001b[43m[\u001b[49m\u001b[38;5;124;43m\"\u001b[39;49m\u001b[38;5;124;43mcompliant \u001b[39;49m\u001b[38;5;124;43m%\u001b[39;49m\u001b[38;5;124;43m\"\u001b[39;49m\u001b[43m]\u001b[49m\u001b[38;5;241m.\u001b[39mmean()\n\u001b[0;32m     35\u001b[0m     \u001b[38;5;28mprint\u001b[39m(average, \u001b[38;5;124m\"\u001b[39m\u001b[38;5;124m,\u001b[39m\u001b[38;5;124m\"\u001b[39m, sep\u001b[38;5;241m=\u001b[39m\u001b[38;5;124m\"\u001b[39m\u001b[38;5;124m\"\u001b[39m, end\u001b[38;5;241m=\u001b[39m\u001b[38;5;124m\"\u001b[39m\u001b[38;5;124m\"\u001b[39m)\n\u001b[0;32m     36\u001b[0m \u001b[38;5;28mprint\u001b[39m(\u001b[38;5;124m\"\u001b[39m\u001b[38;5;124m\"\u001b[39m)\n",
      "\u001b[1;31mTypeError\u001b[0m: string indices must be integers, not 'str'"
     ]
    }
   ],
   "source": [
    "import pandas as pd\n",
    "\n",
    "benchmarks = [\"art-prompt\", \"classify-input-text\", \"elements\", \"extract-names\", \"sentence-rewrite\", \"shakespearean-writing-assistant\", \"speech-tag\", \"text-to-p\"]\n",
    "\n",
    "data = {}\n",
    "for benchmark in benchmarks:\n",
    "    data[benchmark] = pd.read_csv(f'v7.2/{benchmark}/overview.csv')\n",
    "    db = data[benchmark]\n",
    "    \n",
    "    db[\"compliant %\"] = [float(p.strip('%')) / 100 for p in db[\"tests compliant\"]]\n",
    "    db[\"compliant tests\"] = db[\"compliant %\"] * db[\"tests\"]\n",
    "    #print(db[\"compliant %\"])\n",
    "    #print(db[\"compliant tests\"])\n",
    "    #print(db[\"tests\"])\n",
    "    # print(f'{benchmark}:')\n",
    "    \n",
    "print(\"Benchmark, Method, \", end=\"\")\n",
    "for benchmark in benchmarks:\n",
    "    db = data[benchmark]\n",
    "for model in db[\"model\"]:\n",
    "    print(model, \",\", sep=\"\", end=\"\")\n",
    "print(\"\")\n",
    "    \n",
    "for benchmark in benchmarks:\n",
    "    print(benchmark, \",\", end=\"\")\n",
    "    db = data[benchmark]\n",
    "    for cpct in db[\"compliant %\"]:\n",
    "        print(cpct, \",\", sep=\"\", end=\"\")\n",
    "    print(\"\")\n",
    "\n",
    "print(\"average\", \",\", end=\"\")\n",
    "db = data[\"art-prompt\"]\n",
    "for m in db[\"model\"]:\n",
    "    average = m[\"compliant %\"].mean()\n",
    "    print(average, \",\", sep=\"\", end=\"\")\n",
    "print(\"\")\n",
    "    \n",
    "# print(data[benchmark].head())\n",
    "    \n",
    "\n",
    "\n"
   ]
  }
 ],
 "metadata": {
  "kernelspec": {
   "display_name": "Python 3",
   "language": "python",
   "name": "python3"
  },
  "language_info": {
   "codemirror_mode": {
    "name": "ipython",
    "version": 3
   },
   "file_extension": ".py",
   "mimetype": "text/x-python",
   "name": "python",
   "nbconvert_exporter": "python",
   "pygments_lexer": "ipython3",
   "version": "3.12.8"
  }
 },
 "nbformat": 4,
 "nbformat_minor": 2
}
